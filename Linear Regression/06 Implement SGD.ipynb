{
 "cells": [
  {
   "cell_type": "markdown",
   "metadata": {},
   "source": [
    "# Implementing SGD"
   ]
  },
  {
   "cell_type": "code",
   "execution_count": 1,
   "metadata": {
    "colab": {},
    "colab_type": "code",
    "id": "REYPoTJ1Af7u"
   },
   "outputs": [],
   "source": [
    "import warnings\n",
    "warnings.filterwarnings(\"ignore\")\n",
    "\n",
    "from sklearn.datasets import load_boston\n",
    "from random import seed\n",
    "from random import randrange\n",
    "from csv import reader\n",
    "from math import sqrt\n",
    "from sklearn import preprocessing\n",
    "import pandas as pd\n",
    "import numpy as np\n",
    "import matplotlib.pyplot as plt\n",
    "from prettytable import PrettyTable\n",
    "from sklearn.linear_model import SGDRegressor\n",
    "from sklearn import preprocessing\n",
    "from sklearn.metrics import mean_squared_error"
   ]
  },
  {
   "cell_type": "code",
   "execution_count": 22,
   "metadata": {},
   "outputs": [],
   "source": [
    "from sklearn.model_selection import train_test_split\n",
    "import sklearn\n",
    "\n",
    "from sklearn.datasets import load_boston # to load  datasets from sklearn\n",
    "import matplotlib.pyplot as plt\n",
    "\n",
    "import numpy as np\n",
    "import seaborn as sns\n",
    "\n",
    "from collections import Counter\n",
    "from sklearn.metrics import accuracy_score\n",
    "\n",
    "from sklearn.preprocessing import StandardScaler\n",
    "import pandas as pd\n",
    "import math"
   ]
  },
  {
   "cell_type": "code",
   "execution_count": 5,
   "metadata": {},
   "outputs": [
    {
     "name": "stdout",
     "output_type": "stream",
     "text": [
      "(506, 13)\n"
     ]
    }
   ],
   "source": [
    "boston = load_boston()\n",
    "# Shape of Boston datasets\n",
    "print(boston.data.shape)"
   ]
  },
  {
   "cell_type": "code",
   "execution_count": 10,
   "metadata": {},
   "outputs": [
    {
     "name": "stdout",
     "output_type": "stream",
     "text": [
      "Boston House Prices dataset\n",
      "===========================\n",
      "\n",
      "Notes\n",
      "------\n",
      "Data Set Characteristics:  \n",
      "\n",
      "    :Number of Instances: 506 \n",
      "\n",
      "    :Number of Attributes: 13 numeric/categorical predictive\n",
      "    \n",
      "    :Median Value (attribute 14) is usually the target\n",
      "\n",
      "    :Attribute Information (in order):\n",
      "        - CRIM     per capita crime rate by town\n",
      "        - ZN       proportion of residential land zoned for lots over 25,000 sq.ft.\n",
      "        - INDUS    proportion of non-retail business acres per town\n",
      "        - CHAS     Charles River dummy variable (= 1 if tract bounds river; 0 otherwise)\n",
      "        - NOX      nitric oxides concentration (parts per 10 million)\n",
      "        - RM       average number of rooms per dwelling\n",
      "        - AGE      proportion of owner-occupied units built prior to 1940\n",
      "        - DIS      weighted distances to five Boston employment centres\n",
      "        - RAD      index of accessibility to radial highways\n",
      "        - TAX      full-value property-tax rate per $10,000\n",
      "        - PTRATIO  pupil-teacher ratio by town\n",
      "        - B        1000(Bk - 0.63)^2 where Bk is the proportion of blacks by town\n",
      "        - LSTAT    % lower status of the population\n",
      "        - MEDV     Median value of owner-occupied homes in $1000's\n",
      "\n",
      "    :Missing Attribute Values: None\n",
      "\n",
      "    :Creator: Harrison, D. and Rubinfeld, D.L.\n",
      "\n",
      "This is a copy of UCI ML housing dataset.\n",
      "http://archive.ics.uci.edu/ml/datasets/Housing\n",
      "\n",
      "\n",
      "This dataset was taken from the StatLib library which is maintained at Carnegie Mellon University.\n",
      "\n",
      "The Boston house-price data of Harrison, D. and Rubinfeld, D.L. 'Hedonic\n",
      "prices and the demand for clean air', J. Environ. Economics & Management,\n",
      "vol.5, 81-102, 1978.   Used in Belsley, Kuh & Welsch, 'Regression diagnostics\n",
      "...', Wiley, 1980.   N.B. Various transformations are used in the table on\n",
      "pages 244-261 of the latter.\n",
      "\n",
      "The Boston house-price data has been used in many machine learning papers that address regression\n",
      "problems.   \n",
      "     \n",
      "**References**\n",
      "\n",
      "   - Belsley, Kuh & Welsch, 'Regression diagnostics: Identifying Influential Data and Sources of Collinearity', Wiley, 1980. 244-261.\n",
      "   - Quinlan,R. (1993). Combining Instance-Based and Model-Based Learning. In Proceedings on the Tenth International Conference of Machine Learning, 236-243, University of Massachusetts, Amherst. Morgan Kaufmann.\n",
      "   - many more! (see http://archive.ics.uci.edu/ml/datasets/Housing)\n",
      "\n"
     ]
    }
   ],
   "source": [
    "print(boston.DESCR)"
   ]
  },
  {
   "cell_type": "code",
   "execution_count": 11,
   "metadata": {},
   "outputs": [
    {
     "data": {
      "text/plain": [
       "array(['CRIM', 'ZN', 'INDUS', 'CHAS', 'NOX', 'RM', 'AGE', 'DIS', 'RAD',\n",
       "       'TAX', 'PTRATIO', 'B', 'LSTAT'], dtype='<U7')"
      ]
     },
     "execution_count": 11,
     "metadata": {},
     "output_type": "execute_result"
    }
   ],
   "source": [
    "boston.feature_names"
   ]
  },
  {
   "cell_type": "code",
   "execution_count": 12,
   "metadata": {
    "colab": {},
    "colab_type": "code",
    "id": "NTQ2iH-kAwbo"
   },
   "outputs": [
    {
     "data": {
      "text/plain": [
       "array(['CRIM', 'ZN', 'INDUS', 'CHAS', 'NOX', 'RM', 'AGE', 'DIS', 'RAD',\n",
       "       'TAX', 'PTRATIO', 'B', 'LSTAT'], dtype='<U7')"
      ]
     },
     "execution_count": 12,
     "metadata": {},
     "output_type": "execute_result"
    }
   ],
   "source": [
    "columnNames = boston.feature_names\n",
    "columnNames"
   ]
  },
  {
   "cell_type": "code",
   "execution_count": 19,
   "metadata": {},
   "outputs": [
    {
     "data": {
      "text/plain": [
       "array([[6.3200e-03, 1.8000e+01, 2.3100e+00, ..., 1.5300e+01, 3.9690e+02,\n",
       "        4.9800e+00],\n",
       "       [2.7310e-02, 0.0000e+00, 7.0700e+00, ..., 1.7800e+01, 3.9690e+02,\n",
       "        9.1400e+00],\n",
       "       [2.7290e-02, 0.0000e+00, 7.0700e+00, ..., 1.7800e+01, 3.9283e+02,\n",
       "        4.0300e+00],\n",
       "       ...,\n",
       "       [6.0760e-02, 0.0000e+00, 1.1930e+01, ..., 2.1000e+01, 3.9690e+02,\n",
       "        5.6400e+00],\n",
       "       [1.0959e-01, 0.0000e+00, 1.1930e+01, ..., 2.1000e+01, 3.9345e+02,\n",
       "        6.4800e+00],\n",
       "       [4.7410e-02, 0.0000e+00, 1.1930e+01, ..., 2.1000e+01, 3.9690e+02,\n",
       "        7.8800e+00]])"
      ]
     },
     "execution_count": 19,
     "metadata": {},
     "output_type": "execute_result"
    }
   ],
   "source": [
    "boston.data"
   ]
  },
  {
   "cell_type": "code",
   "execution_count": 13,
   "metadata": {
    "colab": {},
    "colab_type": "code",
    "id": "FgUW39s6Be0U"
   },
   "outputs": [
    {
     "data": {
      "text/html": [
       "<div>\n",
       "<style scoped>\n",
       "    .dataframe tbody tr th:only-of-type {\n",
       "        vertical-align: middle;\n",
       "    }\n",
       "\n",
       "    .dataframe tbody tr th {\n",
       "        vertical-align: top;\n",
       "    }\n",
       "\n",
       "    .dataframe thead th {\n",
       "        text-align: right;\n",
       "    }\n",
       "</style>\n",
       "<table border=\"1\" class=\"dataframe\">\n",
       "  <thead>\n",
       "    <tr style=\"text-align: right;\">\n",
       "      <th></th>\n",
       "      <th>CRIM</th>\n",
       "      <th>ZN</th>\n",
       "      <th>INDUS</th>\n",
       "      <th>CHAS</th>\n",
       "      <th>NOX</th>\n",
       "      <th>RM</th>\n",
       "      <th>AGE</th>\n",
       "      <th>DIS</th>\n",
       "      <th>RAD</th>\n",
       "      <th>TAX</th>\n",
       "      <th>PTRATIO</th>\n",
       "      <th>B</th>\n",
       "      <th>LSTAT</th>\n",
       "    </tr>\n",
       "  </thead>\n",
       "  <tbody>\n",
       "    <tr>\n",
       "      <th>0</th>\n",
       "      <td>0.00632</td>\n",
       "      <td>18.0</td>\n",
       "      <td>2.31</td>\n",
       "      <td>0.0</td>\n",
       "      <td>0.538</td>\n",
       "      <td>6.575</td>\n",
       "      <td>65.2</td>\n",
       "      <td>4.0900</td>\n",
       "      <td>1.0</td>\n",
       "      <td>296.0</td>\n",
       "      <td>15.3</td>\n",
       "      <td>396.9</td>\n",
       "      <td>4.98</td>\n",
       "    </tr>\n",
       "    <tr>\n",
       "      <th>1</th>\n",
       "      <td>0.02731</td>\n",
       "      <td>0.0</td>\n",
       "      <td>7.07</td>\n",
       "      <td>0.0</td>\n",
       "      <td>0.469</td>\n",
       "      <td>6.421</td>\n",
       "      <td>78.9</td>\n",
       "      <td>4.9671</td>\n",
       "      <td>2.0</td>\n",
       "      <td>242.0</td>\n",
       "      <td>17.8</td>\n",
       "      <td>396.9</td>\n",
       "      <td>9.14</td>\n",
       "    </tr>\n",
       "  </tbody>\n",
       "</table>\n",
       "</div>"
      ],
      "text/plain": [
       "      CRIM    ZN  INDUS  CHAS    NOX     RM   AGE     DIS  RAD    TAX  \\\n",
       "0  0.00632  18.0   2.31   0.0  0.538  6.575  65.2  4.0900  1.0  296.0   \n",
       "1  0.02731   0.0   7.07   0.0  0.469  6.421  78.9  4.9671  2.0  242.0   \n",
       "\n",
       "   PTRATIO      B  LSTAT  \n",
       "0     15.3  396.9   4.98  \n",
       "1     17.8  396.9   9.14  "
      ]
     },
     "execution_count": 13,
     "metadata": {},
     "output_type": "execute_result"
    }
   ],
   "source": [
    "Data = pd.DataFrame(boston.data, columns = columnNames)\n",
    "Data.head(2)"
   ]
  },
  {
   "cell_type": "code",
   "execution_count": 17,
   "metadata": {
    "colab": {
     "base_uri": "https://localhost:8080/",
     "height": 34
    },
    "colab_type": "code",
    "executionInfo": {
     "elapsed": 879,
     "status": "ok",
     "timestamp": 1545718892607,
     "user": {
      "displayName": "Applied AI Course",
      "photoUrl": "https://lh5.googleusercontent.com/-9_3A9F-kDXs/AAAAAAAAAAI/AAAAAAAAACw/IprjYvUuoXQ/s64/photo.jpg",
      "userId": "00484516897554883881"
     },
     "user_tz": -330
    },
    "id": "HNu1sXtEBBS2",
    "outputId": "a0c5d3d0-345c-4a34-8ccf-0d9f3d7d23fd"
   },
   "outputs": [
    {
     "data": {
      "text/plain": [
       "(506,)"
      ]
     },
     "execution_count": 17,
     "metadata": {},
     "output_type": "execute_result"
    }
   ],
   "source": [
    "Data_Labels = boston.target\n",
    "Data_Labels.shape\n"
   ]
  },
  {
   "cell_type": "code",
   "execution_count": 15,
   "metadata": {},
   "outputs": [
    {
     "data": {
      "text/html": [
       "<div>\n",
       "<style scoped>\n",
       "    .dataframe tbody tr th:only-of-type {\n",
       "        vertical-align: middle;\n",
       "    }\n",
       "\n",
       "    .dataframe tbody tr th {\n",
       "        vertical-align: top;\n",
       "    }\n",
       "\n",
       "    .dataframe thead th {\n",
       "        text-align: right;\n",
       "    }\n",
       "</style>\n",
       "<table border=\"1\" class=\"dataframe\">\n",
       "  <thead>\n",
       "    <tr style=\"text-align: right;\">\n",
       "      <th></th>\n",
       "      <th>CRIM</th>\n",
       "      <th>ZN</th>\n",
       "      <th>INDUS</th>\n",
       "      <th>CHAS</th>\n",
       "      <th>NOX</th>\n",
       "      <th>RM</th>\n",
       "      <th>AGE</th>\n",
       "      <th>DIS</th>\n",
       "      <th>RAD</th>\n",
       "      <th>TAX</th>\n",
       "      <th>PTRATIO</th>\n",
       "      <th>B</th>\n",
       "      <th>LSTAT</th>\n",
       "      <th>PRICE</th>\n",
       "    </tr>\n",
       "  </thead>\n",
       "  <tbody>\n",
       "    <tr>\n",
       "      <th>0</th>\n",
       "      <td>0.00632</td>\n",
       "      <td>18.0</td>\n",
       "      <td>2.31</td>\n",
       "      <td>0.0</td>\n",
       "      <td>0.538</td>\n",
       "      <td>6.575</td>\n",
       "      <td>65.2</td>\n",
       "      <td>4.0900</td>\n",
       "      <td>1.0</td>\n",
       "      <td>296.0</td>\n",
       "      <td>15.3</td>\n",
       "      <td>396.9</td>\n",
       "      <td>4.98</td>\n",
       "      <td>24.0</td>\n",
       "    </tr>\n",
       "    <tr>\n",
       "      <th>1</th>\n",
       "      <td>0.02731</td>\n",
       "      <td>0.0</td>\n",
       "      <td>7.07</td>\n",
       "      <td>0.0</td>\n",
       "      <td>0.469</td>\n",
       "      <td>6.421</td>\n",
       "      <td>78.9</td>\n",
       "      <td>4.9671</td>\n",
       "      <td>2.0</td>\n",
       "      <td>242.0</td>\n",
       "      <td>17.8</td>\n",
       "      <td>396.9</td>\n",
       "      <td>9.14</td>\n",
       "      <td>21.6</td>\n",
       "    </tr>\n",
       "  </tbody>\n",
       "</table>\n",
       "</div>"
      ],
      "text/plain": [
       "      CRIM    ZN  INDUS  CHAS    NOX     RM   AGE     DIS  RAD    TAX  \\\n",
       "0  0.00632  18.0   2.31   0.0  0.538  6.575  65.2  4.0900  1.0  296.0   \n",
       "1  0.02731   0.0   7.07   0.0  0.469  6.421  78.9  4.9671  2.0  242.0   \n",
       "\n",
       "   PTRATIO      B  LSTAT  PRICE  \n",
       "0     15.3  396.9   4.98   24.0  \n",
       "1     17.8  396.9   9.14   21.6  "
      ]
     },
     "execution_count": 15,
     "metadata": {},
     "output_type": "execute_result"
    }
   ],
   "source": [
    "Data[\"PRICE\"] = Data_Labels\n",
    "Data.head(2)"
   ]
  },
  {
   "cell_type": "code",
   "execution_count": 20,
   "metadata": {},
   "outputs": [
    {
     "data": {
      "text/plain": [
       "(506, 14)"
      ]
     },
     "execution_count": 20,
     "metadata": {},
     "output_type": "execute_result"
    }
   ],
   "source": [
    "Data.shape"
   ]
  },
  {
   "cell_type": "markdown",
   "metadata": {},
   "source": [
    "# Train Test Split"
   ]
  },
  {
   "cell_type": "code",
   "execution_count": 23,
   "metadata": {},
   "outputs": [
    {
     "name": "stdout",
     "output_type": "stream",
     "text": [
      "        CRIM    ZN  INDUS  CHAS    NOX     RM   AGE     DIS   RAD    TAX  \\\n",
      "243  0.12757  30.0   4.93   0.0  0.428  6.393   7.8  7.0355   6.0  300.0   \n",
      "253  0.36894  22.0   5.86   0.0  0.431  8.259   8.4  8.9067   7.0  330.0   \n",
      "224  0.31533   0.0   6.20   0.0  0.504  8.266  78.3  2.8944   8.0  307.0   \n",
      "466  3.77498   0.0  18.10   0.0  0.655  5.952  84.7  2.8715  24.0  666.0   \n",
      "460  4.81213   0.0  18.10   0.0  0.713  6.701  90.0  2.5975  24.0  666.0   \n",
      "55   0.01311  90.0   1.22   0.0  0.403  7.249  21.9  8.6966   5.0  226.0   \n",
      "75   0.09512   0.0  12.83   0.0  0.437  6.286  45.0  4.5026   5.0  398.0   \n",
      "337  0.03041   0.0   5.19   0.0  0.515  5.895  59.6  5.6150   5.0  224.0   \n",
      "249  0.19073  22.0   5.86   0.0  0.431  6.718  17.5  7.8265   7.0  330.0   \n",
      "485  3.67367   0.0  18.10   0.0  0.583  6.312  51.9  3.9917  24.0  666.0   \n",
      "\n",
      "     PTRATIO       B  LSTAT  PRICE  \n",
      "243     16.6  374.71   5.19   23.7  \n",
      "253     19.1  396.90   3.54   42.8  \n",
      "224     17.4  385.05   4.14   44.8  \n",
      "466     20.2   22.01  17.15   19.0  \n",
      "460     20.2  255.23  16.42   16.4  \n",
      "55      17.9  395.93   4.81   35.4  \n",
      "75      18.7  383.23   8.94   21.4  \n",
      "337     20.2  394.81  10.56   18.5  \n",
      "249     19.1  393.74   6.56   26.2  \n",
      "485     20.2  388.62  10.58   21.2  \n"
     ]
    }
   ],
   "source": [
    "X_train, X_test, Y_train, Y_test = train_test_split(Data, Data[\"PRICE\"],test_size = 0.2)\n",
    "X_train.shape, X_test.shape, Y_train.shape, Y_test.shape\n",
    "print(X_train.head(10))"
   ]
  },
  {
   "cell_type": "code",
   "execution_count": 27,
   "metadata": {},
   "outputs": [],
   "source": [
    "#First Standadize the data\n",
    "from sklearn import preprocessing\n",
    "scaler=preprocessing.StandardScaler()\n",
    "std_scale = scaler.fit(X_train[['CRIM', 'ZN','INDUS','CHAS','NOX','RM','AGE','DIS','RAD','TAX','PTRATIO','B','LSTAT']])\n",
    "train_standardized= std_scale.transform(X_train[['CRIM', 'ZN','INDUS','CHAS','NOX','RM','AGE','DIS','RAD','TAX','PTRATIO','B','LSTAT']])\n",
    "test_standardized= std_scale.transform(X_test[['CRIM','ZN','INDUS','CHAS','NOX','RM','AGE','DIS','RAD','TAX','PTRATIO','B','LSTAT']])"
   ]
  },
  {
   "cell_type": "code",
   "execution_count": 28,
   "metadata": {},
   "outputs": [
    {
     "name": "stdout",
     "output_type": "stream",
     "text": [
      "[23.7 42.8 44.8 19.  16.4 35.4 21.4 18.5 26.2 21.2 32.7 30.1 32.2 22.\n",
      " 21.7 13.8 21.6 31.6 27.9 11.7 32.5 19.3 24.6 19.4 24.8 11.5 20.4 22.6\n",
      " 14.4 19.5 19.3 28.7 31.   5.6 34.9 22.9 23.3 48.5 24.2 20.2  7.2 37.\n",
      " 20.3 20.4 20.1 23.8 24.3  8.8 23.  21.9 19.3 50.  25.2 19.1 50.  19.8\n",
      " 23.2 23.1 50.  50.   7.5 24.7 21.8 22.6 22.6 25.  28.4 15.  20.  20.\n",
      " 18.4 50.  23.9 20.5 22.8 24.8 22.2 14.2 17.  12.6 34.7 25.1 14.9 30.8\n",
      " 18.3 48.8 13.5 23.4 26.4 20.  14.5 10.5  8.4 22.9 23.1 23.3 18.9 23.\n",
      " 35.2 10.5 23.3 19.5 13.2 22.2 17.6 28.2 17.8 23.9 28.1 14.3 13.4  5.\n",
      " 13.8 14.  46.7 33.  24.8 16.1 22.1 33.1 16.7 18.2 10.9 20.1 16.8 21.5\n",
      " 20.6 15.  20.2 23.8 13.4 19.2 12.5 25.   7.  13.8 19.4 15.4 14.6 23.1\n",
      " 17.1 13.5 26.6 25.  14.9  9.7 17.5 23.2 18.5 23.2 31.6 24.1 20.6  8.3\n",
      " 22.5 10.2  6.3 18.9 15.6  8.4  8.7 46.  19.5 15.  21.  20.8 13.3 32.\n",
      " 12.1 28.  26.4 50.  21.6 16.1 18.3 23.1 43.1 23.  31.5 20.5 17.1 21.2\n",
      " 12.7 14.5 18.6 12.  21.7 19.4 36.2 11.8 18.2 50.  50.  31.1 50.  42.3\n",
      " 10.2 28.7 23.5 15.6 21.1 13.  27.  22.9 20.6 28.7 19.6 25.  22.2 50.\n",
      " 34.9 20.3 14.1 15.2 22.5 18.5 13.8 20.1 38.7 20.3 30.5 13.3 23.6 37.2\n",
      " 23.1 22.6 33.1 22.4 22.  14.1 22.2 20.4 25.  18.8 24.6 17.8 17.3 19.8\n",
      " 22.6 13.1 15.6 14.8 17.8 20.6 33.4 26.7 21.4 23.9 18.  22.  50.  11.8\n",
      " 13.6 28.5 37.3  7.2 24.5 19.2 17.4 20.8 14.6 31.5 43.8 31.2 27.1 18.9\n",
      " 22.3 24.8 37.9 27.9 10.4 23.3 18.5 15.2 50.  16.2 25.  29.6 20.1 19.4\n",
      " 29.9 17.5 24.4 22.9 19.7 19.4 13.1 29.8 22.  20.6 24.3 25.3 37.6 33.2\n",
      " 20.  20.6 20.  24.7 17.4 19.   8.1 21.7 10.9 50.  20.4 19.1 21.7 21.8\n",
      " 43.5 27.1 10.2 44.  23.6 24.4 19.7 39.8 16.1 32.9 17.1 24.1 35.1 21.2\n",
      " 25.  27.5 20.3 16.7 19.6 23.9 18.7 17.2 32.  19.6 18.8 29.6 33.2 22.\n",
      " 21.  19.6 17.8 19.3 13.9 36.1 19.8 36.2 34.6 23.7 50.  24.7 12.3 19.9\n",
      " 33.3 20.5 13.9 20.1 20.8 23.8 21.2 21.4 25.  19.1 16.6 36.4 27.5 48.3\n",
      " 16.  45.4 13.1 18.2  7.4 16.2 19.5 23.1 21.  32.4 11.  21.4 23.   5.\n",
      " 20.7 29.8 29.1 21.7 14.3  9.6 19.6 13.8 16.5 22.5 23.7 22.   8.8 22.7\n",
      " 33.8 14.5  8.5 21.9 11.9 12.8 36.5 22.7 15.2 19.1 21.9 22.8]\n",
      "(404,)\n",
      "(404, 13)\n"
     ]
    }
   ],
   "source": [
    "X_train_standardized = pd.DataFrame(train_standardized, columns = columnNames)\n",
    "X_test_standardized = pd.DataFrame(test_standardized, columns = columnNames)\n",
    "Y_train=np.array(Y_train)\n",
    "Y_test=np.array(Y_test)\n",
    "print(Y_train)\n",
    "print(Y_train.shape)\n",
    "print(X_train_standardized.shape)"
   ]
  },
  {
   "cell_type": "code",
   "execution_count": 29,
   "metadata": {},
   "outputs": [],
   "source": [
    "X_train_standardized['PRICE']=Y_train\n",
    "X_test_standardized['PRICE']=Y_test"
   ]
  },
  {
   "cell_type": "code",
   "execution_count": 30,
   "metadata": {},
   "outputs": [
    {
     "name": "stdout",
     "output_type": "stream",
     "text": [
      "(404, 14)\n",
      "(102, 14)\n"
     ]
    }
   ],
   "source": [
    "print(X_train_standardized.shape)\n",
    "print(X_test_standardized.shape)"
   ]
  },
  {
   "cell_type": "markdown",
   "metadata": {},
   "source": [
    "# Stochastic Gradient Descent"
   ]
  },
  {
   "cell_type": "code",
   "execution_count": 32,
   "metadata": {},
   "outputs": [],
   "source": [
    "#have used the below code from github"
   ]
  },
  {
   "cell_type": "code",
   "execution_count": 31,
   "metadata": {},
   "outputs": [
    {
     "name": "stdout",
     "output_type": "stream",
     "text": [
      "404 [ 0.02381462  0.05560947  0.09227067  0.0094231   0.08282602 -0.09006225\n",
      " -0.04582119 -0.02474342  0.03889422  0.07088581  0.06431994  0.01697569\n",
      " -0.23645988] [-0.05827495] 0.2\n",
      "Weight = [-0.77962561  1.46734951  0.57203129  1.10257263 -0.82167183  3.46647483\n",
      "  0.40517137 -2.24246557  2.94903055 -2.19957943 -1.73340329  1.55374565\n",
      " -3.57664596]\n",
      "b = [23.1528653]\n"
     ]
    }
   ],
   "source": [
    "# for references\n",
    "#https://github.com/gauravtheP/Implementing-Stochastic-GradientDescent/blob/master/LinearRegression_SGD_BostonHomePrices.ipynb\n",
    "#First step initilize the weights and b\n",
    "#formulae of slope s=mx+b.\n",
    "# mx is the weights*x1....weights_d*xd\n",
    "# b is the intercept term\n",
    "m = X_train.shape[0]\n",
    "weight = np.random.randn(13)*np.sqrt(2/m) # defining initial random weight from normal distribution\n",
    "b = np.random.randn(1)*np.sqrt(2/m) # generating initial random y-intercept from normal distribution\n",
    "# initilize learing rate\n",
    "learningRate = 0.2\n",
    "print(m,weight,b,learningRate)\n",
    "for i in range(2000): # running 2000 iterations\n",
    "    Data_batch_10 = X_train_standardized.sample(n = 10) # taking 10 stochastic samples\n",
    "    X_temp = Data_batch_10.drop(\"PRICE\", axis = 1, inplace = False) # DROP the price label, because this is the output label we have to predict.\n",
    "#X = pd.DataFrame(X_temp, columns = columnNames)\n",
    "    X=X_temp\n",
    "    Y = Data_batch_10[\"PRICE\"]\n",
    "    PartialGradient = np.empty(13)# in this we store the partial derivate with respect to w...we have 13 features  13 features\n",
    "    sum2 = 0\n",
    "# Update the weights-------------------------------\n",
    "# formula (w0=w1-lr*derivate)in every iteration\n",
    "# step 1.\n",
    "#First calculate the derivative\n",
    "    for j in range(13): # as there are 13 dimensions in our dataset and dimensions of weight should also be same as dimension of our dataset\n",
    "        sum1 = 0\n",
    "        for k in range(10):\n",
    "            sum1 += -2 * X.iloc[k][j] * (Y.iloc[k] - np.dot(weight, X.iloc[k]) - b) # this is a derivative of linear regression w.r.t 'w\n",
    "        PartialGradient[j] = sum1\n",
    "# step 2.\n",
    "#multiply with learning rate\n",
    "    PartialGradient *= learningRate\n",
    "#step 3.\n",
    "#Update the weights\n",
    "    for l in range(13):\n",
    "        weight[l] -= PartialGradient[l] # updating weights\n",
    "# Update the Intercepts or (b's)-------------------------------\n",
    "    for m in range(10):\n",
    "        sum2 += -2 * (Y.iloc[m]- np.dot(weight, X.iloc[m]) - b) # this is the derivative of linear regression w.r.t 'b'\n",
    "    b = b - learningRate * sum2 #updating y-intercept 'b'\n",
    "# in every iteration u have to reduce the learing rate bro\n",
    "    learningRate = 0.01 / pow(i+1, 0.25) #learning rate at every iteration\n",
    "# just add the regularization term to it\n",
    "    weight = weight + 0.0001*np.dot(weight, weight) #adding l2 regularization\n",
    "    b = b + 0.0001*np.dot(weight, weight) #adding L2 regularization\n",
    "print(\"Weight = \"+str(weight))\n",
    "print(\"b = \"+str(b))\n"
   ]
  },
  {
   "cell_type": "code",
   "execution_count": 41,
   "metadata": {},
   "outputs": [],
   "source": [
    "# time for testdata.. with our updated weights and coeffcients\n",
    "import math\n",
    "test_temp = X_test_standardized.drop(\"PRICE\", axis = 1, inplace = False)\n",
    "test_data = test_temp\n",
    "test_labels = Y_test\n",
    "y_predicted = []\n",
    "for i in range(102):\n",
    "    test_i = 0\n",
    "    test_i = np.dot(weight, test_data.iloc[i]) + b[0] #making prediction by using optimize values of weights obtained from SGD\n",
    "    y_predicted.append(test_i)"
   ]
  },
  {
   "cell_type": "code",
   "execution_count": 42,
   "metadata": {},
   "outputs": [],
   "source": [
    "#Make the preditions\n",
    "d1 = {'True Labels': Y_test, 'Predicted Labels': y_predicted}\n",
    "df1 = pd.DataFrame(data = d1)"
   ]
  },
  {
   "cell_type": "code",
   "execution_count": 43,
   "metadata": {},
   "outputs": [
    {
     "name": "stdout",
     "output_type": "stream",
     "text": [
      "19.430696876801047\n"
     ]
    }
   ],
   "source": [
    "Mean_Sq_Error = mean_squared_error(Y_test, y_predicted)\n",
    "print(Mean_Sq_Error)"
   ]
  },
  {
   "cell_type": "code",
   "execution_count": 44,
   "metadata": {},
   "outputs": [
    {
     "data": {
      "image/png": "[encoded data removed]",
      "text/plain": [
       "<Figure size 720x720 with 1 Axes>"
      ]
     },
     "metadata": {},
     "output_type": "display_data"
    }
   ],
   "source": [
    "import seaborn as sns\n",
    "lm1 = sns.lmplot(x=\"True Labels\", y=\"Predicted Labels\", data = df1, size = 10)\n",
    "fig1 = lm1.fig\n",
    "fig1.suptitle(\"With Manual Implementation(Without Sklearn)\", fontsize=18)\n",
    "sns.set(font_scale = 1.5)"
   ]
  },
  {
   "cell_type": "code",
   "execution_count": 45,
   "metadata": {},
   "outputs": [
    {
     "name": "stdout",
     "output_type": "stream",
     "text": [
      "Weight = [-1.17297343  1.33565484  0.03873578  0.6983058  -1.52908145  2.43744545\n",
      " -0.02551971 -3.29220995  2.82299091 -2.19753749 -2.00640482  0.98792572\n",
      " -4.09702758]\n",
      "Y Intercept = [22.80739133]\n"
     ]
    }
   ],
   "source": [
    "#Sklearn implementation\n",
    "X_temp = X_train_standardized.drop(\"PRICE\", axis = 1, inplace = False)\n",
    "X=X_temp\n",
    "Y = Y_train\n",
    "X_test_temp = X_test_standardized.drop(\"PRICE\", axis = 1, inplace = False)\n",
    "X_te=X_test_temp\n",
    "Y_te = Y_test\n",
    "clf = SGDRegressor(shuffle = False, learning_rate= 'invscaling', max_iter = 2000)\n",
    "clf.fit(X, Y)# fir train data\n",
    "Y_pred = clf.predict(X_te)# predict test error\n",
    "print(\"Weight = \"+str(clf.coef_))\n",
    "print(\"Y Intercept = \"+str(clf.intercept_))"
   ]
  },
  {
   "cell_type": "code",
   "execution_count": 46,
   "metadata": {},
   "outputs": [
    {
     "data": {
      "text/html": [
       "<div>\n",
       "<style scoped>\n",
       "    .dataframe tbody tr th:only-of-type {\n",
       "        vertical-align: middle;\n",
       "    }\n",
       "\n",
       "    .dataframe tbody tr th {\n",
       "        vertical-align: top;\n",
       "    }\n",
       "\n",
       "    .dataframe thead th {\n",
       "        text-align: right;\n",
       "    }\n",
       "</style>\n",
       "<table border=\"1\" class=\"dataframe\">\n",
       "  <thead>\n",
       "    <tr style=\"text-align: right;\">\n",
       "      <th></th>\n",
       "      <th>True Labels</th>\n",
       "      <th>Predicted Labels</th>\n",
       "    </tr>\n",
       "  </thead>\n",
       "  <tbody>\n",
       "    <tr>\n",
       "      <th>0</th>\n",
       "      <td>23.2</td>\n",
       "      <td>26.961971</td>\n",
       "    </tr>\n",
       "    <tr>\n",
       "      <th>1</th>\n",
       "      <td>11.7</td>\n",
       "      <td>13.973693</td>\n",
       "    </tr>\n",
       "    <tr>\n",
       "      <th>2</th>\n",
       "      <td>21.5</td>\n",
       "      <td>24.903008</td>\n",
       "    </tr>\n",
       "    <tr>\n",
       "      <th>3</th>\n",
       "      <td>18.4</td>\n",
       "      <td>16.019471</td>\n",
       "    </tr>\n",
       "    <tr>\n",
       "      <th>4</th>\n",
       "      <td>21.2</td>\n",
       "      <td>20.579715</td>\n",
       "    </tr>\n",
       "    <tr>\n",
       "      <th>5</th>\n",
       "      <td>29.4</td>\n",
       "      <td>31.096605</td>\n",
       "    </tr>\n",
       "    <tr>\n",
       "      <th>6</th>\n",
       "      <td>34.9</td>\n",
       "      <td>34.723440</td>\n",
       "    </tr>\n",
       "    <tr>\n",
       "      <th>7</th>\n",
       "      <td>15.7</td>\n",
       "      <td>14.071281</td>\n",
       "    </tr>\n",
       "    <tr>\n",
       "      <th>8</th>\n",
       "      <td>30.7</td>\n",
       "      <td>31.618960</td>\n",
       "    </tr>\n",
       "    <tr>\n",
       "      <th>9</th>\n",
       "      <td>16.6</td>\n",
       "      <td>17.117845</td>\n",
       "    </tr>\n",
       "    <tr>\n",
       "      <th>10</th>\n",
       "      <td>19.4</td>\n",
       "      <td>16.610444</td>\n",
       "    </tr>\n",
       "    <tr>\n",
       "      <th>11</th>\n",
       "      <td>17.5</td>\n",
       "      <td>16.819046</td>\n",
       "    </tr>\n",
       "    <tr>\n",
       "      <th>12</th>\n",
       "      <td>23.7</td>\n",
       "      <td>28.307462</td>\n",
       "    </tr>\n",
       "    <tr>\n",
       "      <th>13</th>\n",
       "      <td>13.3</td>\n",
       "      <td>13.777073</td>\n",
       "    </tr>\n",
       "    <tr>\n",
       "      <th>14</th>\n",
       "      <td>50.0</td>\n",
       "      <td>41.876746</td>\n",
       "    </tr>\n",
       "    <tr>\n",
       "      <th>15</th>\n",
       "      <td>14.9</td>\n",
       "      <td>14.582086</td>\n",
       "    </tr>\n",
       "    <tr>\n",
       "      <th>16</th>\n",
       "      <td>35.4</td>\n",
       "      <td>34.247308</td>\n",
       "    </tr>\n",
       "    <tr>\n",
       "      <th>17</th>\n",
       "      <td>8.5</td>\n",
       "      <td>6.438918</td>\n",
       "    </tr>\n",
       "    <tr>\n",
       "      <th>18</th>\n",
       "      <td>22.3</td>\n",
       "      <td>27.041883</td>\n",
       "    </tr>\n",
       "    <tr>\n",
       "      <th>19</th>\n",
       "      <td>8.3</td>\n",
       "      <td>13.126012</td>\n",
       "    </tr>\n",
       "    <tr>\n",
       "      <th>20</th>\n",
       "      <td>21.4</td>\n",
       "      <td>20.714101</td>\n",
       "    </tr>\n",
       "    <tr>\n",
       "      <th>21</th>\n",
       "      <td>24.0</td>\n",
       "      <td>25.351100</td>\n",
       "    </tr>\n",
       "    <tr>\n",
       "      <th>22</th>\n",
       "      <td>13.1</td>\n",
       "      <td>14.044207</td>\n",
       "    </tr>\n",
       "    <tr>\n",
       "      <th>23</th>\n",
       "      <td>21.1</td>\n",
       "      <td>20.824257</td>\n",
       "    </tr>\n",
       "    <tr>\n",
       "      <th>24</th>\n",
       "      <td>13.6</td>\n",
       "      <td>13.499123</td>\n",
       "    </tr>\n",
       "    <tr>\n",
       "      <th>25</th>\n",
       "      <td>12.7</td>\n",
       "      <td>10.908501</td>\n",
       "    </tr>\n",
       "    <tr>\n",
       "      <th>26</th>\n",
       "      <td>27.5</td>\n",
       "      <td>18.833419</td>\n",
       "    </tr>\n",
       "    <tr>\n",
       "      <th>27</th>\n",
       "      <td>21.7</td>\n",
       "      <td>20.716709</td>\n",
       "    </tr>\n",
       "    <tr>\n",
       "      <th>28</th>\n",
       "      <td>26.5</td>\n",
       "      <td>25.710582</td>\n",
       "    </tr>\n",
       "    <tr>\n",
       "      <th>29</th>\n",
       "      <td>20.7</td>\n",
       "      <td>25.814126</td>\n",
       "    </tr>\n",
       "    <tr>\n",
       "      <th>...</th>\n",
       "      <td>...</td>\n",
       "      <td>...</td>\n",
       "    </tr>\n",
       "    <tr>\n",
       "      <th>72</th>\n",
       "      <td>23.4</td>\n",
       "      <td>23.916236</td>\n",
       "    </tr>\n",
       "    <tr>\n",
       "      <th>73</th>\n",
       "      <td>19.9</td>\n",
       "      <td>18.412606</td>\n",
       "    </tr>\n",
       "    <tr>\n",
       "      <th>74</th>\n",
       "      <td>22.8</td>\n",
       "      <td>24.373119</td>\n",
       "    </tr>\n",
       "    <tr>\n",
       "      <th>75</th>\n",
       "      <td>33.4</td>\n",
       "      <td>28.444640</td>\n",
       "    </tr>\n",
       "    <tr>\n",
       "      <th>76</th>\n",
       "      <td>16.5</td>\n",
       "      <td>10.390914</td>\n",
       "    </tr>\n",
       "    <tr>\n",
       "      <th>77</th>\n",
       "      <td>24.5</td>\n",
       "      <td>20.716349</td>\n",
       "    </tr>\n",
       "    <tr>\n",
       "      <th>78</th>\n",
       "      <td>17.8</td>\n",
       "      <td>22.434002</td>\n",
       "    </tr>\n",
       "    <tr>\n",
       "      <th>79</th>\n",
       "      <td>24.4</td>\n",
       "      <td>23.468390</td>\n",
       "    </tr>\n",
       "    <tr>\n",
       "      <th>80</th>\n",
       "      <td>28.6</td>\n",
       "      <td>27.910439</td>\n",
       "    </tr>\n",
       "    <tr>\n",
       "      <th>81</th>\n",
       "      <td>19.3</td>\n",
       "      <td>16.588466</td>\n",
       "    </tr>\n",
       "    <tr>\n",
       "      <th>82</th>\n",
       "      <td>13.4</td>\n",
       "      <td>15.977304</td>\n",
       "    </tr>\n",
       "    <tr>\n",
       "      <th>83</th>\n",
       "      <td>14.4</td>\n",
       "      <td>7.674054</td>\n",
       "    </tr>\n",
       "    <tr>\n",
       "      <th>84</th>\n",
       "      <td>19.9</td>\n",
       "      <td>19.830509</td>\n",
       "    </tr>\n",
       "    <tr>\n",
       "      <th>85</th>\n",
       "      <td>28.4</td>\n",
       "      <td>31.093707</td>\n",
       "    </tr>\n",
       "    <tr>\n",
       "      <th>86</th>\n",
       "      <td>19.9</td>\n",
       "      <td>19.675946</td>\n",
       "    </tr>\n",
       "    <tr>\n",
       "      <th>87</th>\n",
       "      <td>23.9</td>\n",
       "      <td>28.043596</td>\n",
       "    </tr>\n",
       "    <tr>\n",
       "      <th>88</th>\n",
       "      <td>29.0</td>\n",
       "      <td>31.672917</td>\n",
       "    </tr>\n",
       "    <tr>\n",
       "      <th>89</th>\n",
       "      <td>29.1</td>\n",
       "      <td>31.602516</td>\n",
       "    </tr>\n",
       "    <tr>\n",
       "      <th>90</th>\n",
       "      <td>11.9</td>\n",
       "      <td>22.966558</td>\n",
       "    </tr>\n",
       "    <tr>\n",
       "      <th>91</th>\n",
       "      <td>17.2</td>\n",
       "      <td>15.639889</td>\n",
       "    </tr>\n",
       "    <tr>\n",
       "      <th>92</th>\n",
       "      <td>41.7</td>\n",
       "      <td>37.748548</td>\n",
       "    </tr>\n",
       "    <tr>\n",
       "      <th>93</th>\n",
       "      <td>14.1</td>\n",
       "      <td>15.471684</td>\n",
       "    </tr>\n",
       "    <tr>\n",
       "      <th>94</th>\n",
       "      <td>11.3</td>\n",
       "      <td>13.725981</td>\n",
       "    </tr>\n",
       "    <tr>\n",
       "      <th>95</th>\n",
       "      <td>15.6</td>\n",
       "      <td>13.141447</td>\n",
       "    </tr>\n",
       "    <tr>\n",
       "      <th>96</th>\n",
       "      <td>30.3</td>\n",
       "      <td>32.204866</td>\n",
       "    </tr>\n",
       "    <tr>\n",
       "      <th>97</th>\n",
       "      <td>13.4</td>\n",
       "      <td>15.625202</td>\n",
       "    </tr>\n",
       "    <tr>\n",
       "      <th>98</th>\n",
       "      <td>17.9</td>\n",
       "      <td>0.238130</td>\n",
       "    </tr>\n",
       "    <tr>\n",
       "      <th>99</th>\n",
       "      <td>23.1</td>\n",
       "      <td>20.996016</td>\n",
       "    </tr>\n",
       "    <tr>\n",
       "      <th>100</th>\n",
       "      <td>50.0</td>\n",
       "      <td>35.756602</td>\n",
       "    </tr>\n",
       "    <tr>\n",
       "      <th>101</th>\n",
       "      <td>24.4</td>\n",
       "      <td>23.983928</td>\n",
       "    </tr>\n",
       "  </tbody>\n",
       "</table>\n",
       "<p>102 rows × 2 columns</p>\n",
       "</div>"
      ],
      "text/plain": [
       "     True Labels  Predicted Labels\n",
       "0           23.2         26.961971\n",
       "1           11.7         13.973693\n",
       "2           21.5         24.903008\n",
       "3           18.4         16.019471\n",
       "4           21.2         20.579715\n",
       "5           29.4         31.096605\n",
       "6           34.9         34.723440\n",
       "7           15.7         14.071281\n",
       "8           30.7         31.618960\n",
       "9           16.6         17.117845\n",
       "10          19.4         16.610444\n",
       "11          17.5         16.819046\n",
       "12          23.7         28.307462\n",
       "13          13.3         13.777073\n",
       "14          50.0         41.876746\n",
       "15          14.9         14.582086\n",
       "16          35.4         34.247308\n",
       "17           8.5          6.438918\n",
       "18          22.3         27.041883\n",
       "19           8.3         13.126012\n",
       "20          21.4         20.714101\n",
       "21          24.0         25.351100\n",
       "22          13.1         14.044207\n",
       "23          21.1         20.824257\n",
       "24          13.6         13.499123\n",
       "25          12.7         10.908501\n",
       "26          27.5         18.833419\n",
       "27          21.7         20.716709\n",
       "28          26.5         25.710582\n",
       "29          20.7         25.814126\n",
       "..           ...               ...\n",
       "72          23.4         23.916236\n",
       "73          19.9         18.412606\n",
       "74          22.8         24.373119\n",
       "75          33.4         28.444640\n",
       "76          16.5         10.390914\n",
       "77          24.5         20.716349\n",
       "78          17.8         22.434002\n",
       "79          24.4         23.468390\n",
       "80          28.6         27.910439\n",
       "81          19.3         16.588466\n",
       "82          13.4         15.977304\n",
       "83          14.4          7.674054\n",
       "84          19.9         19.830509\n",
       "85          28.4         31.093707\n",
       "86          19.9         19.675946\n",
       "87          23.9         28.043596\n",
       "88          29.0         31.672917\n",
       "89          29.1         31.602516\n",
       "90          11.9         22.966558\n",
       "91          17.2         15.639889\n",
       "92          41.7         37.748548\n",
       "93          14.1         15.471684\n",
       "94          11.3         13.725981\n",
       "95          15.6         13.141447\n",
       "96          30.3         32.204866\n",
       "97          13.4         15.625202\n",
       "98          17.9          0.238130\n",
       "99          23.1         20.996016\n",
       "100         50.0         35.756602\n",
       "101         24.4         23.983928\n",
       "\n",
       "[102 rows x 2 columns]"
      ]
     },
     "execution_count": 46,
     "metadata": {},
     "output_type": "execute_result"
    }
   ],
   "source": [
    "d2 = {'True Labels': Y_te, 'Predicted Labels': Y_pred}\n",
    "df2 = pd.DataFrame(data = d2)\n",
    "df2"
   ]
  },
  {
   "cell_type": "code",
   "execution_count": 47,
   "metadata": {},
   "outputs": [
    {
     "data": {
      "text/plain": [
       "18.474840956762705"
      ]
     },
     "execution_count": 47,
     "metadata": {},
     "output_type": "execute_result"
    }
   ],
   "source": [
    "Mean_Sq_Error = mean_squared_error(Y_te, Y_pred)\n",
    "Mean_Sq_Error"
   ]
  },
  {
   "cell_type": "code",
   "execution_count": 49,
   "metadata": {},
   "outputs": [
    {
     "data": {
      "image/png": "[encoded data removed]",
      "text/plain": [
       "<Figure size 720x720 with 1 Axes>"
      ]
     },
     "metadata": {},
     "output_type": "display_data"
    }
   ],
   "source": [
    "lm2 = sns.lmplot(x=\"True Labels\", y=\"Predicted Labels\", data = df2, size = 10)\n",
    "fig2 = lm2.fig\n",
    "# Add a title to the Figure\n",
    "fig2.suptitle(\"With Sklearn's Implementation\", fontsize=18)\n",
    "sns.set(font_scale = 1.5)"
   ]
  },
  {
   "cell_type": "code",
   "execution_count": null,
   "metadata": {},
   "outputs": [],
   "source": []
  }
 ],
 "metadata": {
  "colab": {
   "name": "Untitled3.ipynb",
   "provenance": [],
   "version": "0.3.2"
  },
  "kernelspec": {
   "display_name": "Python 3",
   "language": "python",
   "name": "python3"
  },
  "language_info": {
   "codemirror_mode": {
    "name": "ipython",
    "version": 3
   },
   "file_extension": ".py",
   "mimetype": "text/x-python",
   "name": "python",
   "nbconvert_exporter": "python",
   "pygments_lexer": "ipython3",
   "version": "3.6.5"
  }
 },
 "nbformat": 4,
 "nbformat_minor": 1
}
